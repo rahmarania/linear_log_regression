{
 "cells": [
  {
   "cell_type": "markdown",
   "id": "5941f005",
   "metadata": {},
   "source": [
    "## Linear Regression \n",
    "This is my ATM Project (Amati (observe), Tiru (imitate), Modifikasi (modification))\\\n",
    "Learn into ML DL AI as the beginner to be a hero!\n",
    "\n",
    "In this case, we want to predict how much insurances that people should pay based on their age and number of children."
   ]
  },
  {
   "cell_type": "markdown",
   "id": "1e281df2",
   "metadata": {},
   "source": [
    "### Import Libraries"
   ]
  },
  {
   "cell_type": "code",
   "execution_count": 16,
   "id": "b4630ae1",
   "metadata": {},
   "outputs": [],
   "source": [
    "import pandas as pd # data manipulation\n",
    "import numpy as np # array manipulation\n",
    "%matplotlib inline \n",
    "import matplotlib.pyplot as plt # visualization\n",
    "import sklearn\n",
    "from sklearn.compose import ColumnTransformer # transform the column \n",
    "from sklearn.preprocessing import OneHotEncoder # encode datatype\n",
    "from sklearn.linear_model import LinearRegression # modelling\n",
    "from sklearn.model_selection import train_test_split # splitting train and test\n",
    "from sklearn.metrics import mean_squared_error # evaluation"
   ]
  },
  {
   "cell_type": "markdown",
   "id": "56677543",
   "metadata": {},
   "source": [
    "### Import Dataset"
   ]
  },
  {
   "cell_type": "code",
   "execution_count": 17,
   "id": "8719012b",
   "metadata": {},
   "outputs": [],
   "source": [
    "dt = pd.read_csv(\"data_input/c1/insurance.csv\")"
   ]
  },
  {
   "cell_type": "code",
   "execution_count": 18,
   "id": "a0267262",
   "metadata": {},
   "outputs": [
    {
     "data": {
      "text/html": [
       "<div>\n",
       "<style scoped>\n",
       "    .dataframe tbody tr th:only-of-type {\n",
       "        vertical-align: middle;\n",
       "    }\n",
       "\n",
       "    .dataframe tbody tr th {\n",
       "        vertical-align: top;\n",
       "    }\n",
       "\n",
       "    .dataframe thead th {\n",
       "        text-align: right;\n",
       "    }\n",
       "</style>\n",
       "<table border=\"1\" class=\"dataframe\">\n",
       "  <thead>\n",
       "    <tr style=\"text-align: right;\">\n",
       "      <th></th>\n",
       "      <th>age</th>\n",
       "      <th>sex</th>\n",
       "      <th>bmi</th>\n",
       "      <th>children</th>\n",
       "      <th>smoker</th>\n",
       "      <th>region</th>\n",
       "      <th>charges</th>\n",
       "    </tr>\n",
       "  </thead>\n",
       "  <tbody>\n",
       "    <tr>\n",
       "      <th>0</th>\n",
       "      <td>19</td>\n",
       "      <td>female</td>\n",
       "      <td>27.900</td>\n",
       "      <td>0</td>\n",
       "      <td>yes</td>\n",
       "      <td>southwest</td>\n",
       "      <td>16884.92400</td>\n",
       "    </tr>\n",
       "    <tr>\n",
       "      <th>1</th>\n",
       "      <td>18</td>\n",
       "      <td>male</td>\n",
       "      <td>33.770</td>\n",
       "      <td>1</td>\n",
       "      <td>no</td>\n",
       "      <td>southeast</td>\n",
       "      <td>1725.55230</td>\n",
       "    </tr>\n",
       "    <tr>\n",
       "      <th>2</th>\n",
       "      <td>28</td>\n",
       "      <td>male</td>\n",
       "      <td>33.000</td>\n",
       "      <td>3</td>\n",
       "      <td>no</td>\n",
       "      <td>southeast</td>\n",
       "      <td>4449.46200</td>\n",
       "    </tr>\n",
       "    <tr>\n",
       "      <th>3</th>\n",
       "      <td>33</td>\n",
       "      <td>male</td>\n",
       "      <td>22.705</td>\n",
       "      <td>0</td>\n",
       "      <td>no</td>\n",
       "      <td>northwest</td>\n",
       "      <td>21984.47061</td>\n",
       "    </tr>\n",
       "    <tr>\n",
       "      <th>4</th>\n",
       "      <td>32</td>\n",
       "      <td>male</td>\n",
       "      <td>28.880</td>\n",
       "      <td>0</td>\n",
       "      <td>no</td>\n",
       "      <td>northwest</td>\n",
       "      <td>3866.85520</td>\n",
       "    </tr>\n",
       "  </tbody>\n",
       "</table>\n",
       "</div>"
      ],
      "text/plain": [
       "   age     sex     bmi  children smoker     region      charges\n",
       "0   19  female  27.900         0    yes  southwest  16884.92400\n",
       "1   18    male  33.770         1     no  southeast   1725.55230\n",
       "2   28    male  33.000         3     no  southeast   4449.46200\n",
       "3   33    male  22.705         0     no  northwest  21984.47061\n",
       "4   32    male  28.880         0     no  northwest   3866.85520"
      ]
     },
     "execution_count": 18,
     "metadata": {},
     "output_type": "execute_result"
    }
   ],
   "source": [
    "dt.head()"
   ]
  },
  {
   "cell_type": "code",
   "execution_count": 19,
   "id": "4a595141",
   "metadata": {},
   "outputs": [
    {
     "name": "stdout",
     "output_type": "stream",
     "text": [
      "<class 'pandas.core.frame.DataFrame'>\n",
      "RangeIndex: 1338 entries, 0 to 1337\n",
      "Data columns (total 7 columns):\n",
      " #   Column    Non-Null Count  Dtype  \n",
      "---  ------    --------------  -----  \n",
      " 0   age       1338 non-null   int64  \n",
      " 1   sex       1338 non-null   object \n",
      " 2   bmi       1338 non-null   float64\n",
      " 3   children  1338 non-null   int64  \n",
      " 4   smoker    1338 non-null   object \n",
      " 5   region    1338 non-null   object \n",
      " 6   charges   1338 non-null   float64\n",
      "dtypes: float64(2), int64(2), object(3)\n",
      "memory usage: 73.3+ KB\n"
     ]
    }
   ],
   "source": [
    "dt.info()"
   ]
  },
  {
   "cell_type": "markdown",
   "id": "d63a19af",
   "metadata": {},
   "source": [
    "In this step, we importing the dataset from data_input folder. This data has 1071 rows with 7 columns. The data type is still not relevan, so we turn it into the right types. Below is the decription of our data.\n",
    "\n",
    "- age: Age of primary beneficiary\n",
    "sex: Insurance contractor gender, female / male\n",
    "- bmi: Body mass index, providing an understanding of body, weights that are relatively high or low relative to height, objective index of body weight (kg / m^2) using the ratio of height to weight, ideally 18.5 to 24.9\n",
    "- children: Number of children covered by health insurance / Number of dependents\n",
    "- smoker: Smoker / Non - smoker\n",
    "- region: The beneficiary's residential area in the US, northeast, southeast, southwest, northwest.\n",
    "- charges: Individual medical costs billed by health insurance."
   ]
  },
  {
   "cell_type": "markdown",
   "id": "a93592fd",
   "metadata": {},
   "source": [
    "### EDA"
   ]
  },
  {
   "cell_type": "markdown",
   "id": "6b362767",
   "metadata": {},
   "source": [
    "In this step, we would check if there is any missing values, unappropriate data types, duplicates, etc."
   ]
  },
  {
   "cell_type": "code",
   "execution_count": 20,
   "id": "a26e61e5",
   "metadata": {},
   "outputs": [
    {
     "name": "stdout",
     "output_type": "stream",
     "text": [
      "<class 'pandas.core.frame.DataFrame'>\n",
      "RangeIndex: 1338 entries, 0 to 1337\n",
      "Data columns (total 7 columns):\n",
      " #   Column    Non-Null Count  Dtype  \n",
      "---  ------    --------------  -----  \n",
      " 0   age       1338 non-null   int64  \n",
      " 1   sex       1338 non-null   object \n",
      " 2   bmi       1338 non-null   float64\n",
      " 3   children  1338 non-null   int64  \n",
      " 4   smoker    1338 non-null   object \n",
      " 5   region    1338 non-null   object \n",
      " 6   charges   1338 non-null   float64\n",
      "dtypes: float64(2), int64(2), object(3)\n",
      "memory usage: 73.3+ KB\n"
     ]
    }
   ],
   "source": [
    "dt.info()"
   ]
  },
  {
   "cell_type": "markdown",
   "id": "57cbc594",
   "metadata": {},
   "source": [
    "##### Change data type"
   ]
  },
  {
   "cell_type": "code",
   "execution_count": 21,
   "id": "1b6d8708",
   "metadata": {},
   "outputs": [],
   "source": [
    "dt[['sex','smoker','region']] = dt[['sex','smoker','region']].astype('category')"
   ]
  },
  {
   "cell_type": "markdown",
   "id": "8e92e87a",
   "metadata": {},
   "source": [
    "##### Missing value"
   ]
  },
  {
   "cell_type": "code",
   "execution_count": 22,
   "id": "541b1100",
   "metadata": {},
   "outputs": [
    {
     "data": {
      "text/plain": [
       "age         False\n",
       "sex         False\n",
       "bmi         False\n",
       "children    False\n",
       "smoker      False\n",
       "region      False\n",
       "charges     False\n",
       "dtype: bool"
      ]
     },
     "execution_count": 22,
     "metadata": {},
     "output_type": "execute_result"
    }
   ],
   "source": [
    "dt.isnull().any()"
   ]
  },
  {
   "cell_type": "markdown",
   "id": "457b647f",
   "metadata": {},
   "source": [
    "##### Check duplicated"
   ]
  },
  {
   "cell_type": "code",
   "execution_count": 23,
   "id": "2d4b70d9",
   "metadata": {},
   "outputs": [
    {
     "data": {
      "text/plain": [
       "True"
      ]
     },
     "execution_count": 23,
     "metadata": {},
     "output_type": "execute_result"
    }
   ],
   "source": [
    "dt.duplicated().any()"
   ]
  },
  {
   "cell_type": "code",
   "execution_count": 24,
   "id": "abb1ce62",
   "metadata": {},
   "outputs": [],
   "source": [
    "dt.drop_duplicates(inplace = True)"
   ]
  },
  {
   "cell_type": "code",
   "execution_count": 25,
   "id": "401aedd0",
   "metadata": {},
   "outputs": [
    {
     "data": {
      "text/plain": [
       "False"
      ]
     },
     "execution_count": 25,
     "metadata": {},
     "output_type": "execute_result"
    }
   ],
   "source": [
    "dt.duplicated().any()"
   ]
  },
  {
   "cell_type": "markdown",
   "id": "38969a93",
   "metadata": {},
   "source": [
    "Our data doesn't have missing values and duplicated data, so we can continue to the next step"
   ]
  },
  {
   "cell_type": "markdown",
   "id": "54745c15",
   "metadata": {},
   "source": [
    "### Splitting Data"
   ]
  },
  {
   "cell_type": "markdown",
   "id": "12c492d7",
   "metadata": {},
   "source": [
    "In this case, we want to predict insurance amount with our data. Set target data to charges column, and predictors the rest of data. Split data into target and its predictors."
   ]
  },
  {
   "cell_type": "code",
   "execution_count": 26,
   "id": "bebe3e98",
   "metadata": {},
   "outputs": [],
   "source": [
    "# get the target\n",
    "y = dt['charges']\n",
    "\n",
    "# drop target to get predictors\n",
    "X = dt[['age','children']]"
   ]
  },
  {
   "cell_type": "code",
   "execution_count": 27,
   "id": "254e7b2e",
   "metadata": {},
   "outputs": [],
   "source": [
    "# split 80% train and 20% test\n",
    "X_train, X_test, y_train, y_test = train_test_split(X, \\\n",
    "                                                    y,\\\n",
    "                                                    test_size=0.2,\\\n",
    "                                                    random_state=57)"
   ]
  },
  {
   "cell_type": "markdown",
   "id": "bb492931",
   "metadata": {},
   "source": [
    "### Training"
   ]
  },
  {
   "cell_type": "markdown",
   "id": "a2c7d5e2",
   "metadata": {},
   "source": [
    "Fitting data using train that has been splitted in previous step. We can use LinearRegression function from sklearn."
   ]
  },
  {
   "cell_type": "code",
   "execution_count": 28,
   "id": "604fcd06",
   "metadata": {},
   "outputs": [
    {
     "data": {
      "text/plain": [
       "LinearRegression()"
      ]
     },
     "execution_count": 28,
     "metadata": {},
     "output_type": "execute_result"
    }
   ],
   "source": [
    "mdl = LinearRegression()\n",
    "mdl.fit(X_train, y_train)"
   ]
  },
  {
   "cell_type": "markdown",
   "id": "174875da",
   "metadata": {},
   "source": [
    "### Testing"
   ]
  },
  {
   "cell_type": "markdown",
   "id": "585cd536",
   "metadata": {},
   "source": [
    "Predict model that has builded with test data"
   ]
  },
  {
   "cell_type": "code",
   "execution_count": 29,
   "id": "9e32a647",
   "metadata": {},
   "outputs": [
    {
     "data": {
      "text/plain": [
       "array([ 7967.24247001, 10929.13593094,  6831.26845995,  8197.22428361,\n",
       "       15659.80443365])"
      ]
     },
     "execution_count": 29,
     "metadata": {},
     "output_type": "execute_result"
    }
   ],
   "source": [
    "y_pred = mdl.predict(X_test)\n",
    "y_pred[:5]"
   ]
  },
  {
   "cell_type": "markdown",
   "id": "ab7f4274",
   "metadata": {},
   "source": [
    "### Model Evaluation"
   ]
  },
  {
   "cell_type": "code",
   "execution_count": 30,
   "id": "59a51605",
   "metadata": {},
   "outputs": [
    {
     "name": "stdout",
     "output_type": "stream",
     "text": [
      "Mean Squared Error :  129117385.18176281\n"
     ]
    }
   ],
   "source": [
    "mse = mean_squared_error(y_test, y_pred)\n",
    "print(\"Mean Squared Error : \", mse)"
   ]
  },
  {
   "cell_type": "markdown",
   "id": "847c6cd3",
   "metadata": {},
   "source": [
    "Our model has 16% error which can tell that our model is quite good for predicting new data. Next, we predict new (dummy) data"
   ]
  },
  {
   "cell_type": "code",
   "execution_count": 31,
   "id": "dca7b479",
   "metadata": {},
   "outputs": [],
   "source": [
    "new_dt = {'age' : [50,30,20],\n",
    "         'children' : [7, 0, 4]}\n",
    "\n",
    "new_dt = pd.DataFrame(new_dt)"
   ]
  },
  {
   "cell_type": "code",
   "execution_count": 32,
   "id": "1cf8b8b0",
   "metadata": {},
   "outputs": [
    {
     "data": {
      "text/plain": [
       "array([19700.52749555, 10109.56243674,  9736.01751179])"
      ]
     },
     "execution_count": 32,
     "metadata": {},
     "output_type": "execute_result"
    }
   ],
   "source": [
    "y_hat = mdl.predict(new_dt)\n",
    "y_hat"
   ]
  },
  {
   "cell_type": "markdown",
   "id": "6f9487b2",
   "metadata": {},
   "source": [
    "Our model success to predict new data. If you have any advice for this work or suggestion what i should learn next, you can [send an email](mailto:rahfairuzran@gmail.com) to\n",
    " me"
   ]
  }
 ],
 "metadata": {
  "kernelspec": {
   "display_name": "Python 3 (ipykernel)",
   "language": "python",
   "name": "python3"
  },
  "language_info": {
   "codemirror_mode": {
    "name": "ipython",
    "version": 3
   },
   "file_extension": ".py",
   "mimetype": "text/x-python",
   "name": "python",
   "nbconvert_exporter": "python",
   "pygments_lexer": "ipython3",
   "version": "3.9.16"
  }
 },
 "nbformat": 4,
 "nbformat_minor": 5
}
